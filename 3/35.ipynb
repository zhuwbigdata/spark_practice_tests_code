{
 "cells": [
  {
   "cell_type": "markdown",
   "metadata": {
    "application/vnd.databricks.v1+cell": {
     "cellMetadata": {},
     "inputWidgets": {},
     "nuid": "87a4339f-cc26-4446-83b0-5fd419c20c70",
     "showTitle": false,
     "title": ""
    }
   },
   "source": [
    "# Test 3, Question 35\n",
    "> **Hint:** In Databricks, import code for all questions via this URL:\n",
    "> \n",
    "> https://github.com/flrs/spark_practice_tests_code/raw/main/spark_practice_tests_code.dbc"
   ]
  },
  {
   "cell_type": "markdown",
   "metadata": {
    "application/vnd.databricks.v1+cell": {
     "cellMetadata": {},
     "inputWidgets": {},
     "nuid": "f4880eb0-7927-4c43-afc7-570736845dc8",
     "showTitle": false,
     "title": ""
    }
   },
   "source": [
    "### Java DateFormat\n",
    "https://docs.oracle.com/javase/7/docs/api/java/text/SimpleDateFormat.html\n",
    "```\n",
    "    Letter \tDate or Time Component \tPresentation \tExamples\n",
    "    G \tEra designator \tText \tAD\n",
    "    y \tYear \tYear \t1996; 96\n",
    "    Y \tWeek year \tYear \t2009; 09\n",
    "    M \tMonth in year \tMonth \tJuly; Jul; 07\n",
    "    w \tWeek in year \tNumber \t27\n",
    "    W \tWeek in month \tNumber \t2\n",
    "    D \tDay in year \tNumber \t189\n",
    "    d \tDay in month \tNumber \t10\n",
    "    F \tDay of week in month \tNumber \t2\n",
    "    E \tDay name in week \tText \tTuesday; Tue\n",
    "    u \tDay number of week (1 = Monday, ..., 7 = Sunday) \tNumber \t1\n",
    "    a \tAm/pm marker \tText \tPM\n",
    "    H \tHour in day (0-23) \tNumber \t0\n",
    "    k \tHour in day (1-24) \tNumber \t24\n",
    "    K \tHour in am/pm (0-11) \tNumber \t0\n",
    "    h \tHour in am/pm (1-12) \tNumber \t12\n",
    "    m \tMinute in hour \tNumber \t30\n",
    "    s \tSecond in minute \tNumber \t55\n",
    "    S \tMillisecond \tNumber \t978\n",
    "    z \tTime zone \tGeneral time zone \tPacific Standard Time; PST; GMT-08:00\n",
    "    Z \tTime zone \tRFC 822 time zone \t-0800\n",
    "    X \tTime zone \tISO 8601 time zone \t-08; -0800; -08:00\n",
    "```\n",
    "\n",
    "Pattern letters are usually repeated, as their number determines the exact presentation:\n",
    "```\n",
    "    Text: For formatting, if the number of pattern letters is 4 or more, the full form is used; \n",
    "    otherwise a short or abbreviated form is used if available. For parsing, both forms are accepted, \n",
    "    independent of the number of pattern letters.\n",
    "\n",
    "    Number: For formatting, the number of pattern letters is the minimum number of digits, \n",
    "    and shorter numbers are zero-padded to this amount. For parsing, the number of pattern letters \n",
    "    is ignored unless it's needed to separate two adjacent fields.\n",
    "\n",
    "    Year: If the formatter's Calendar is the Gregorian calendar, the following rules are applied.\n",
    "        For formatting, if the number of pattern letters is 2, the year is truncated to 2 digits; otherwise it is interpreted as a number.\n",
    "        For parsing, if the number of pattern letters is more than 2, the year is interpreted literally, regardless of the number of digits. So using the pattern \"MM/dd/yyyy\", \"01/11/12\" parses to Jan 11, 12 A.D.\n",
    "        For parsing with the abbreviated year pattern (\"y\" or \"yy\"), SimpleDateFormat must interpret the abbreviated year relative to some century. It does this by adjusting dates to be within 80 years before and 20 years after the time the SimpleDateFormat instance is created. For example, using a pattern of \"MM/dd/yy\" and a SimpleDateFormat instance created on Jan 1, 1997, the string \"01/11/12\" would be interpreted as Jan 11, 2012 while the string \"05/04/64\" would be interpreted as May 4, 1964. During parsing, only strings consisting of exactly two digits, as defined by Character.isDigit(char), will be parsed into the default century. Any other numeric string, such as a one digit string, a three or more digit string, or a two digit string that isn't all digits (for example, \"-1\"), is interpreted literally. So \"01/02/3\" or \"01/02/003\" are parsed, using the same pattern, as Jan 2, 3 AD. Likewise, \"01/02/-3\" is parsed as Jan 2, 4 BC. \n",
    "    Otherwise, calendar system specific forms are applied. For both formatting and parsing, if the number of pattern letters is 4 or more, a calendar specific long form is used. Otherwise, a calendar specific short or abbreviated form is used.\n",
    "\n",
    "    If week year 'Y' is specified and the calendar doesn't support any week years, the calendar year ('y') is used instead. The support of week years can be tested with a call to getCalendar().isWeekDateSupported().\n",
    "\n",
    "    Month: If the number of pattern letters is 3 or more, the month is interpreted as text; otherwise, it is interpreted as a number.\n",
    "\n",
    "    General time zone: Time zones are interpreted as text if they have names. For time zones representing a GMT offset value, the following syntax is used:\n",
    "\n",
    "         GMTOffsetTimeZone:\n",
    "                 GMT Sign Hours : Minutes\n",
    "         Sign: one of\n",
    "                 + -\n",
    "         Hours:\n",
    "                 Digit\n",
    "                 Digit Digit\n",
    "         Minutes:\n",
    "                 Digit Digit\n",
    "         Digit: one of\n",
    "                 0 1 2 3 4 5 6 7 8 9\n",
    "\n",
    "    Hours must be between 0 and 23, and Minutes must be between 00 and 59. The format is locale independent and digits must be taken from the Basic Latin block of the Unicode standard.\n",
    "\n",
    "    For parsing, RFC 822 time zones are also accepted.\n",
    "    ```"
   ]
  },
  {
   "cell_type": "code",
   "execution_count": 0,
   "metadata": {
    "application/vnd.databricks.v1+cell": {
     "cellMetadata": {},
     "inputWidgets": {},
     "nuid": "ce0bf962-8af0-4c63-8bed-7acbfb428c56",
     "showTitle": false,
     "title": ""
    }
   },
   "outputs": [],
   "source": [
    "%run ./create_transactionsDf2"
   ]
  },
  {
   "cell_type": "code",
   "execution_count": 0,
   "metadata": {
    "application/vnd.databricks.v1+cell": {
     "cellMetadata": {},
     "inputWidgets": {},
     "nuid": "2a4a2762-dcf6-40f8-8379-dc9d687613bd",
     "showTitle": false,
     "title": ""
    }
   },
   "outputs": [],
   "source": [
    "transactionsDf.show()"
   ]
  },
  {
   "cell_type": "markdown",
   "metadata": {
    "application/vnd.databricks.v1+cell": {
     "cellMetadata": {},
     "inputWidgets": {},
     "nuid": "3da08153-8385-45d8-85f4-9d1e5156ec37",
     "showTitle": false,
     "title": ""
    }
   },
   "source": [
    "## Answer 1 (incorrect)"
   ]
  },
  {
   "cell_type": "code",
   "execution_count": 0,
   "metadata": {
    "application/vnd.databricks.v1+cell": {
     "cellMetadata": {},
     "inputWidgets": {},
     "nuid": "741846ba-74a7-4878-9715-49e613b7b7e2",
     "showTitle": false,
     "title": ""
    }
   },
   "outputs": [],
   "source": [
    "from pyspark.sql.functions import from_unixtime\n",
    "\n",
    "transactionsDf.withColumn(\"transactionDateForm\", from_unixtime(\"MMM d (EEEE)\", \"transactionDate\")).show()"
   ]
  },
  {
   "cell_type": "markdown",
   "metadata": {
    "application/vnd.databricks.v1+cell": {
     "cellMetadata": {},
     "inputWidgets": {},
     "nuid": "9e7b8a51-bd8b-45ce-aed6-488cc351332a",
     "showTitle": false,
     "title": ""
    }
   },
   "source": [
    "## Answer 2 (incorrect)"
   ]
  },
  {
   "cell_type": "code",
   "execution_count": 0,
   "metadata": {
    "application/vnd.databricks.v1+cell": {
     "cellMetadata": {},
     "inputWidgets": {},
     "nuid": "14f9adb3-dc1d-4e18-8cfa-4fddecdfdfcd",
     "showTitle": false,
     "title": ""
    }
   },
   "outputs": [],
   "source": [
    "from pyspark.sql.functions import from_unixtime\n",
    "\n",
    "transactionsDf.select(\"transactionDate\", from_unixtime(\"transactionDateForm\", \"MMM d (EEEE)\")).show()"
   ]
  },
  {
   "cell_type": "markdown",
   "metadata": {
    "application/vnd.databricks.v1+cell": {
     "cellMetadata": {},
     "inputWidgets": {},
     "nuid": "2f909ada-99cb-406f-8df0-0f31d52f554c",
     "showTitle": false,
     "title": ""
    }
   },
   "source": [
    "## Answer 3 (correct)"
   ]
  },
  {
   "cell_type": "code",
   "execution_count": 0,
   "metadata": {
    "application/vnd.databricks.v1+cell": {
     "cellMetadata": {},
     "inputWidgets": {},
     "nuid": "c7193aa7-5004-476d-a11a-15dd3833c449",
     "showTitle": false,
     "title": ""
    }
   },
   "outputs": [],
   "source": [
    "from pyspark.sql.functions import from_unixtime\n",
    "\n",
    "transactionsDf.withColumn(\"transactionDateForm\", from_unixtime(\"transactionDate\", \"MMM d (EEEE)\")).show()"
   ]
  },
  {
   "cell_type": "markdown",
   "metadata": {
    "application/vnd.databricks.v1+cell": {
     "cellMetadata": {},
     "inputWidgets": {},
     "nuid": "8fef6132-53bf-4c40-b876-e17972c28fe8",
     "showTitle": false,
     "title": ""
    }
   },
   "source": [
    "## Answer 4 (incorrect)"
   ]
  },
  {
   "cell_type": "code",
   "execution_count": 0,
   "metadata": {
    "application/vnd.databricks.v1+cell": {
     "cellMetadata": {},
     "inputWidgets": {},
     "nuid": "4a1dfb7c-aaf8-4c46-89c0-7367cb77a413",
     "showTitle": false,
     "title": ""
    }
   },
   "outputs": [],
   "source": [
    "from pyspark.sql.functions import from_unixtime\n",
    "\n",
    "transactionsDf.withColumn(\"transactionDateForm\", from_unixtime(\"transactionDate\", \"MM d (EEE)\")).show()"
   ]
  },
  {
   "cell_type": "markdown",
   "metadata": {
    "application/vnd.databricks.v1+cell": {
     "cellMetadata": {},
     "inputWidgets": {},
     "nuid": "9edca3fe-7135-4cbe-a61a-a5dbd2d4c733",
     "showTitle": false,
     "title": ""
    }
   },
   "source": [
    "## Answer 5 (incorrect)"
   ]
  },
  {
   "cell_type": "code",
   "execution_count": 0,
   "metadata": {
    "application/vnd.databricks.v1+cell": {
     "cellMetadata": {},
     "inputWidgets": {},
     "nuid": "6c3f712f-0536-4ce8-ad81-b36c5ec71945",
     "showTitle": false,
     "title": ""
    }
   },
   "outputs": [],
   "source": [
    "from pyspark.sql.functions import from_unixtime\n",
    "\n",
    "transactionsDf.withColumnRenamed(\"transactionDate\", from_unixtime(\"transactionDateForm\", \"MM d (EEE)\")).show()"
   ]
  }
 ],
 "metadata": {
  "application/vnd.databricks.v1+notebook": {
   "dashboards": [],
   "language": "python",
   "notebookMetadata": {
    "pythonIndentUnit": 2
   },
   "notebookName": "35",
   "notebookOrigID": 3688993815073168,
   "widgets": {}
  }
 },
 "nbformat": 4,
 "nbformat_minor": 0
}
